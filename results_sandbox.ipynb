{
 "cells": [
  {
   "cell_type": "code",
   "execution_count": 1,
   "id": "18cad8fe",
   "metadata": {},
   "outputs": [],
   "source": [
    "# Importing necessary libraries\n",
    "import pandas as pd\n",
    "import numpy as np\n",
    "import matplotlib.pyplot as plt\n",
    "import portfolio_builder as pb\n",
    "import pickle"
   ]
  },
  {
   "cell_type": "code",
   "execution_count": 2,
   "id": "1fb52555",
   "metadata": {},
   "outputs": [],
   "source": [
    "# Importing all pickled data: For simulations\n",
    "with open('outputs/strategies/simulations_all.pkl', 'rb') as f:\n",
    "    simulations_all = pickle.load(f)"
   ]
  },
  {
   "cell_type": "code",
   "execution_count": 3,
   "id": "31aef05e",
   "metadata": {},
   "outputs": [
    {
     "data": {
      "text/plain": [
       "dict_keys(['Rebalancing calendar', 'Portfolio', 'Weights', 'PP1 Index', 'BE1 Index', 'ST1 Index', 'IB1 Index', 'CF1 Index', 'EO1 Index', 'GX1 Index', 'SI1 Comdty', 'GC1 Comdty', 'Parameters', 'Performance'])"
      ]
     },
     "execution_count": 3,
     "metadata": {},
     "output_type": "execute_result"
    }
   ],
   "source": [
    "# Here you can see all data contained in the each simulation\n",
    "simulations_all[0]['sim_vol_1MREBAL_1MEST_NORMVOL'].keys()"
   ]
  },
  {
   "cell_type": "code",
   "execution_count": 4,
   "id": "ac88dec9",
   "metadata": {},
   "outputs": [
    {
     "name": "stdout",
     "output_type": "stream",
     "text": [
      "            Annualized return  Annualized volatility  Sharpe ratio  \\\n",
      "2005-03-14           0.066123               0.147202        0.4492   \n",
      "\n",
      "            Sortino ratio  Maximum drawdown  \n",
      "2005-03-14       0.550457          0.213172  \n"
     ]
    }
   ],
   "source": [
    "# Example of how to see the performance (this is measured at the end - the index is the start date of the simulation)\n",
    "print(simulations_all[0]['sim_vol_1MREBAL_1MEST_NORMVOL']['Performance'])"
   ]
  },
  {
   "cell_type": "code",
   "execution_count": 5,
   "id": "5b6c7aa4",
   "metadata": {},
   "outputs": [],
   "source": [
    "# Here's the name of all the simulations. Have fun\n",
    "simulation_list = [\n",
    "    'sim_vol_1MREBAL_1MEST_NORMVOL',\n",
    "    'sim_vol_1MREBAL_3MEST_NORMVOL',\n",
    "    'sim_vol_1MREBAL_6MEST_NORMVOL',\n",
    "    'sim_vol_1MREBAL_12MEST_NORMVOL',\n",
    "    'sim_vol_1MREBAL_1MEST_DOWNVOL',\n",
    "    'sim_vol_1MREBAL_3MEST_DOWNVOL',\n",
    "    'sim_vol_1MREBAL_6MEST_DOWNVOL',\n",
    "    'sim_vol_1MREBAL_12MEST_DOWNVOL',\n",
    "    'sim_ew_1MREBAL'\n",
    "]"
   ]
  },
  {
   "cell_type": "code",
   "execution_count": 6,
   "id": "88d3b8d4",
   "metadata": {},
   "outputs": [],
   "source": [
    "# I'll add GARCH results later here"
   ]
  }
 ],
 "metadata": {
  "kernelspec": {
   "display_name": ".venv",
   "language": "python",
   "name": "python3"
  },
  "language_info": {
   "codemirror_mode": {
    "name": "ipython",
    "version": 3
   },
   "file_extension": ".py",
   "mimetype": "text/x-python",
   "name": "python",
   "nbconvert_exporter": "python",
   "pygments_lexer": "ipython3",
   "version": "3.12.8"
  }
 },
 "nbformat": 4,
 "nbformat_minor": 5
}
