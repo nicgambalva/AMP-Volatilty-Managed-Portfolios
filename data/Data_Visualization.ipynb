{
 "cells": [
  {
   "cell_type": "code",
   "execution_count": 1,
   "id": "0c18daa5",
   "metadata": {},
   "outputs": [],
   "source": [
    "# ignore non material warnings\n",
    "import warnings\n",
    "warnings.filterwarnings(\"ignore\")"
   ]
  },
  {
   "cell_type": "code",
   "execution_count": null,
   "id": "4c552d16",
   "metadata": {},
   "outputs": [],
   "source": [
    "# import packages\n",
    "import pandas as pd\n",
    "import numpy as np\n",
    "import matplotlib.pyplot as plt\n",
    "import seaborn as sns\n",
    "import matplotlib.ticker as ticke\n",
    "from pandas.tseries.offsets import MonthEnd"
   ]
  },
  {
   "cell_type": "code",
   "execution_count": null,
   "id": "36d3e373",
   "metadata": {},
   "outputs": [],
   "source": [
    "recession_indicator = pd.read_excel('Recession_Indicator_NBER.xlsx').set_index('DATE')"
   ]
  },
  {
   "cell_type": "code",
   "execution_count": null,
   "id": "dd9d87e8",
   "metadata": {},
   "outputs": [],
   "source": [
    "# interpolating the recession indicator to daily frequency\n",
    "recession_indicator = recession_indicator.asfreq(\"D\", method=\"ffill\")"
   ]
  },
  {
   "cell_type": "markdown",
   "id": "c3c9352b",
   "metadata": {},
   "source": [
    "### Daily Returns"
   ]
  },
  {
   "cell_type": "code",
   "execution_count": null,
   "id": "6221c49f",
   "metadata": {},
   "outputs": [],
   "source": [
    "# Returns calculated from the futures rolling strategy\n",
    "returns_daily = pd.read_csv('Final_Returns_Data.csv', index_col=0, parse_dates=True)"
   ]
  },
  {
   "cell_type": "code",
   "execution_count": null,
   "id": "9a302d5f",
   "metadata": {},
   "outputs": [
    {
     "data": {
      "text/plain": [
       "(Timestamp('2016-06-21 00:00:00'), 9.471337579617837)"
      ]
     },
     "execution_count": 57,
     "metadata": {},
     "output_type": "execute_result"
    }
   ],
   "source": [
    "returns_daily[\"FTSE/Athens Notional Return\"].idxmax(), returns_daily[\"FTSE/Athens Notional Return\"].max()"
   ]
  },
  {
   "cell_type": "markdown",
   "id": "079dbbdd",
   "metadata": {},
   "source": [
    "The index price surged 9x overnight following the decision to restructure short-term debt and grant Greece a €10 billion bailout.\n",
    "\n",
    "In order not to skew our time series, we have decided to use exrapolated value. Linerar spline calculated as average of the day prior and following 9x return."
   ]
  },
  {
   "cell_type": "code",
   "execution_count": null,
   "id": "60c61a18",
   "metadata": {},
   "outputs": [],
   "source": [
    "# Simple linear interpolation\n",
    "idx = returns_daily[\"FTSE/Athens Notional Return\"].idxmax()\n",
    "pos = returns_daily.index.get_loc(idx)\n",
    "prior_date = returns_daily.index[pos - 1]\n",
    "returns_daily.loc[prior_date]\n",
    "following_date = returns_daily.index[pos + 1]\n",
    "\n",
    "# Add the average of the two surrounding values\n",
    "returns_daily[\"FTSE/Athens Notional Return\"].loc[returns_daily[\"FTSE/Athens Notional Return\"].idxmax()] = (returns_daily[\"FTSE/Athens Notional Return\"].loc[following_date] + returns_daily[\"FTSE/Athens Notional Return\"].loc[prior_date]) / 2"
   ]
  },
  {
   "cell_type": "code",
   "execution_count": null,
   "id": "8d94176a",
   "metadata": {},
   "outputs": [
    {
     "data": {
      "text/plain": [
       "0.0067670316301703"
      ]
     },
     "execution_count": 59,
     "metadata": {},
     "output_type": "execute_result"
    }
   ],
   "source": [
    "#Check the new value\n",
    "returns_daily[\"FTSE/Athens Notional Return\"].loc[idx]"
   ]
  },
  {
   "cell_type": "markdown",
   "id": "977f394e",
   "metadata": {},
   "source": [
    "### Monthly Returns"
   ]
  },
  {
   "cell_type": "code",
   "execution_count": null,
   "id": "c12d5396",
   "metadata": {},
   "outputs": [
    {
     "data": {
      "application/vnd.microsoft.datawrangler.viewer.v0+json": {
       "columns": [
        {
         "name": "index",
         "rawType": "object",
         "type": "string"
        },
        {
         "name": "DAX Notional Value",
         "rawType": "float64",
         "type": "float"
        },
        {
         "name": "Amsterdam Index Notional Value",
         "rawType": "float64",
         "type": "float"
        },
        {
         "name": "CAC40 Notional Value",
         "rawType": "float64",
         "type": "float"
        },
        {
         "name": "PSI-20 Notional Value",
         "rawType": "float64",
         "type": "float"
        },
        {
         "name": "IBEX-35 Notional Value",
         "rawType": "float64",
         "type": "float"
        },
        {
         "name": "FTSE/Athens Notional Value",
         "rawType": "float64",
         "type": "float"
        },
        {
         "name": "BEL-20 Notional Value",
         "rawType": "float64",
         "type": "float"
        },
        {
         "name": "FTSE/MIB Notional Value",
         "rawType": "float64",
         "type": "float"
        },
        {
         "name": "Gold Notional Value",
         "rawType": "float64",
         "type": "float"
        },
        {
         "name": "Silver Notional Value",
         "rawType": "float64",
         "type": "float"
        }
       ],
       "conversionMethod": "pd.DataFrame",
       "ref": "bb21caf8-cbde-4d74-ab58-2d049deb9892",
       "rows": [
        [
         "count",
         "251.0",
         "251.0",
         "251.0",
         "251.0",
         "251.0",
         "251.0",
         "251.0",
         "251.0",
         "251.0",
         "251.0"
        ],
        [
         "mean",
         "0.007120743956358918",
         "0.006590766403072141",
         "0.005937813393109876",
         "0.00268033281704456",
         "0.005942901316376131",
         "0.0019966578250386526",
         "0.0051338586088763806",
         "0.005139498473435646",
         "0.0091292857030083",
         "0.010668581954666474"
        ],
        [
         "std",
         "0.05166466968399426",
         "0.04743063290174618",
         "0.047943799189153986",
         "0.05042358480270077",
         "0.054821058769117144",
         "0.0916975299920511",
         "0.04833367740219402",
         "0.05860662071944835",
         "0.04773615108396487",
         "0.09256944657806436"
        ],
        [
         "min",
         "-0.17303162252837456",
         "-0.19969187750439965",
         "-0.16895726130839017",
         "-0.20286425902864258",
         "-0.21592073771987752",
         "-0.30552952202436734",
         "-0.2087135605216892",
         "-0.2170061336439557",
         "-0.18005033173186924",
         "-0.2797907458542711"
        ],
        [
         "25%",
         "-0.023087564348169",
         "-0.019073661980233747",
         "-0.023549477175171918",
         "-0.024551910746725525",
         "-0.022830505072834406",
         "-0.047847650249765616",
         "-0.02071442445821081",
         "-0.02715976847120688",
         "-0.02099611609230473",
         "-0.05409669216786911"
        ],
        [
         "50%",
         "0.01329367685195959",
         "0.01266918073226253",
         "0.009802825097135592",
         "0.005192555506263741",
         "0.00716394215675642",
         "0.008565368571227028",
         "0.013738524196882596",
         "0.009323564788022765",
         "0.005240263903811826",
         "0.0009856729587049973"
        ],
        [
         "75%",
         "0.03785905609381668",
         "0.035261992955209376",
         "0.036580118928063565",
         "0.030808595835420838",
         "0.03520280792698394",
         "0.058153327396996524",
         "0.034870402229734365",
         "0.04057339397416082",
         "0.039516554112606905",
         "0.06629228320866498"
        ],
        [
         "max",
         "0.16979522184300344",
         "0.13810886775109354",
         "0.20252070413465617",
         "0.16776649746192884",
         "0.2583931138738227",
         "0.3154946157553118",
         "0.21082324212285752",
         "0.23205407519133003",
         "0.14044853034634497",
         "0.30422191010409216"
        ]
       ],
       "shape": {
        "columns": 10,
        "rows": 8
       }
      },
      "text/html": [
       "<div>\n",
       "<style scoped>\n",
       "    .dataframe tbody tr th:only-of-type {\n",
       "        vertical-align: middle;\n",
       "    }\n",
       "\n",
       "    .dataframe tbody tr th {\n",
       "        vertical-align: top;\n",
       "    }\n",
       "\n",
       "    .dataframe thead th {\n",
       "        text-align: right;\n",
       "    }\n",
       "</style>\n",
       "<table border=\"1\" class=\"dataframe\">\n",
       "  <thead>\n",
       "    <tr style=\"text-align: right;\">\n",
       "      <th></th>\n",
       "      <th>DAX Notional Value</th>\n",
       "      <th>Amsterdam Index Notional Value</th>\n",
       "      <th>CAC40 Notional Value</th>\n",
       "      <th>PSI-20 Notional Value</th>\n",
       "      <th>IBEX-35 Notional Value</th>\n",
       "      <th>FTSE/Athens Notional Value</th>\n",
       "      <th>BEL-20 Notional Value</th>\n",
       "      <th>FTSE/MIB Notional Value</th>\n",
       "      <th>Gold Notional Value</th>\n",
       "      <th>Silver Notional Value</th>\n",
       "    </tr>\n",
       "  </thead>\n",
       "  <tbody>\n",
       "    <tr>\n",
       "      <th>count</th>\n",
       "      <td>251.000000</td>\n",
       "      <td>251.000000</td>\n",
       "      <td>251.000000</td>\n",
       "      <td>251.000000</td>\n",
       "      <td>251.000000</td>\n",
       "      <td>251.000000</td>\n",
       "      <td>251.000000</td>\n",
       "      <td>251.000000</td>\n",
       "      <td>251.000000</td>\n",
       "      <td>251.000000</td>\n",
       "    </tr>\n",
       "    <tr>\n",
       "      <th>mean</th>\n",
       "      <td>0.007121</td>\n",
       "      <td>0.006591</td>\n",
       "      <td>0.005938</td>\n",
       "      <td>0.002680</td>\n",
       "      <td>0.005943</td>\n",
       "      <td>0.001997</td>\n",
       "      <td>0.005134</td>\n",
       "      <td>0.005139</td>\n",
       "      <td>0.009129</td>\n",
       "      <td>0.010669</td>\n",
       "    </tr>\n",
       "    <tr>\n",
       "      <th>std</th>\n",
       "      <td>0.051665</td>\n",
       "      <td>0.047431</td>\n",
       "      <td>0.047944</td>\n",
       "      <td>0.050424</td>\n",
       "      <td>0.054821</td>\n",
       "      <td>0.091698</td>\n",
       "      <td>0.048334</td>\n",
       "      <td>0.058607</td>\n",
       "      <td>0.047736</td>\n",
       "      <td>0.092569</td>\n",
       "    </tr>\n",
       "    <tr>\n",
       "      <th>min</th>\n",
       "      <td>-0.173032</td>\n",
       "      <td>-0.199692</td>\n",
       "      <td>-0.168957</td>\n",
       "      <td>-0.202864</td>\n",
       "      <td>-0.215921</td>\n",
       "      <td>-0.305530</td>\n",
       "      <td>-0.208714</td>\n",
       "      <td>-0.217006</td>\n",
       "      <td>-0.180050</td>\n",
       "      <td>-0.279791</td>\n",
       "    </tr>\n",
       "    <tr>\n",
       "      <th>25%</th>\n",
       "      <td>-0.023088</td>\n",
       "      <td>-0.019074</td>\n",
       "      <td>-0.023549</td>\n",
       "      <td>-0.024552</td>\n",
       "      <td>-0.022831</td>\n",
       "      <td>-0.047848</td>\n",
       "      <td>-0.020714</td>\n",
       "      <td>-0.027160</td>\n",
       "      <td>-0.020996</td>\n",
       "      <td>-0.054097</td>\n",
       "    </tr>\n",
       "    <tr>\n",
       "      <th>50%</th>\n",
       "      <td>0.013294</td>\n",
       "      <td>0.012669</td>\n",
       "      <td>0.009803</td>\n",
       "      <td>0.005193</td>\n",
       "      <td>0.007164</td>\n",
       "      <td>0.008565</td>\n",
       "      <td>0.013739</td>\n",
       "      <td>0.009324</td>\n",
       "      <td>0.005240</td>\n",
       "      <td>0.000986</td>\n",
       "    </tr>\n",
       "    <tr>\n",
       "      <th>75%</th>\n",
       "      <td>0.037859</td>\n",
       "      <td>0.035262</td>\n",
       "      <td>0.036580</td>\n",
       "      <td>0.030809</td>\n",
       "      <td>0.035203</td>\n",
       "      <td>0.058153</td>\n",
       "      <td>0.034870</td>\n",
       "      <td>0.040573</td>\n",
       "      <td>0.039517</td>\n",
       "      <td>0.066292</td>\n",
       "    </tr>\n",
       "    <tr>\n",
       "      <th>max</th>\n",
       "      <td>0.169795</td>\n",
       "      <td>0.138109</td>\n",
       "      <td>0.202521</td>\n",
       "      <td>0.167766</td>\n",
       "      <td>0.258393</td>\n",
       "      <td>0.315495</td>\n",
       "      <td>0.210823</td>\n",
       "      <td>0.232054</td>\n",
       "      <td>0.140449</td>\n",
       "      <td>0.304222</td>\n",
       "    </tr>\n",
       "  </tbody>\n",
       "</table>\n",
       "</div>"
      ],
      "text/plain": [
       "       DAX Notional Value  Amsterdam Index Notional Value  \\\n",
       "count          251.000000                      251.000000   \n",
       "mean             0.007121                        0.006591   \n",
       "std              0.051665                        0.047431   \n",
       "min             -0.173032                       -0.199692   \n",
       "25%             -0.023088                       -0.019074   \n",
       "50%              0.013294                        0.012669   \n",
       "75%              0.037859                        0.035262   \n",
       "max              0.169795                        0.138109   \n",
       "\n",
       "       CAC40 Notional Value  PSI-20 Notional Value  IBEX-35 Notional Value  \\\n",
       "count            251.000000             251.000000              251.000000   \n",
       "mean               0.005938               0.002680                0.005943   \n",
       "std                0.047944               0.050424                0.054821   \n",
       "min               -0.168957              -0.202864               -0.215921   \n",
       "25%               -0.023549              -0.024552               -0.022831   \n",
       "50%                0.009803               0.005193                0.007164   \n",
       "75%                0.036580               0.030809                0.035203   \n",
       "max                0.202521               0.167766                0.258393   \n",
       "\n",
       "       FTSE/Athens Notional Value  BEL-20 Notional Value  \\\n",
       "count                  251.000000             251.000000   \n",
       "mean                     0.001997               0.005134   \n",
       "std                      0.091698               0.048334   \n",
       "min                     -0.305530              -0.208714   \n",
       "25%                     -0.047848              -0.020714   \n",
       "50%                      0.008565               0.013739   \n",
       "75%                      0.058153               0.034870   \n",
       "max                      0.315495               0.210823   \n",
       "\n",
       "       FTSE/MIB Notional Value  Gold Notional Value  Silver Notional Value  \n",
       "count               251.000000           251.000000             251.000000  \n",
       "mean                  0.005139             0.009129               0.010669  \n",
       "std                   0.058607             0.047736               0.092569  \n",
       "min                  -0.217006            -0.180050              -0.279791  \n",
       "25%                  -0.027160            -0.020996              -0.054097  \n",
       "50%                   0.009324             0.005240               0.000986  \n",
       "75%                   0.040573             0.039517               0.066292  \n",
       "max                   0.232054             0.140449               0.304222  "
      ]
     },
     "execution_count": 60,
     "metadata": {},
     "output_type": "execute_result"
    }
   ],
   "source": [
    "notional = pd.read_csv('Final_Notional_Data.csv', index_col=0, parse_dates=True)\n",
    "# Step 1: Create a DataFrame of month-ends\n",
    "month_ends = pd.date_range(start=notional.index.min(), end=notional.index.max(), freq='M')\n",
    "\n",
    "# Step 2: For each month-end, find the closest date in df.index\n",
    "closest_dates = []\n",
    "for month_end in month_ends:\n",
    "    closest_date = notional.index[np.abs((notional.index - month_end).days).argmin()]\n",
    "    closest_dates.append(closest_date)\n",
    "\n",
    "# Step 3: Extract rows at those closest dates\n",
    "df_closest_to_month_end = notional.loc[sorted(set(closest_dates))]\n",
    "\n",
    "returns_monthly = df_closest_to_month_end.pct_change().dropna()\n",
    "\n",
    "# Deal with Athens\n",
    "# Simple Linear interpolation\n",
    "idx = returns_monthly[\"FTSE/Athens Notional Value\"].idxmax()\n",
    "pos = returns_monthly.index.get_loc(idx)\n",
    "prior_date = returns_monthly.index[pos - 1]\n",
    "returns_monthly.loc[prior_date]\n",
    "following_date = returns_monthly.index[pos + 1]\n",
    "\n",
    "# Add the average of the two surrounding values\n",
    "returns_monthly[\"FTSE/Athens Notional Value\"].loc[returns_monthly[\"FTSE/Athens Notional Value\"].idxmax()] = (returns_monthly[\"FTSE/Athens Notional Value\"].loc[following_date] + returns_monthly[\"FTSE/Athens Notional Value\"].loc[prior_date]) / 2\n",
    "\n",
    "returns_monthly.describe()"
   ]
  },
  {
   "cell_type": "markdown",
   "id": "4b98fc94",
   "metadata": {},
   "source": [
    "# Descriptive Data Analysis\n",
    "\n",
    "Key statistics on our returns data."
   ]
  },
  {
   "cell_type": "code",
   "execution_count": null,
   "id": "30f2a421",
   "metadata": {},
   "outputs": [
    {
     "data": {
      "application/vnd.microsoft.datawrangler.viewer.v0+json": {
       "columns": [
        {
         "name": "index",
         "rawType": "object",
         "type": "string"
        },
        {
         "name": "DAX Notional Return",
         "rawType": "object",
         "type": "string"
        },
        {
         "name": "Amsterdam Index Notional Return",
         "rawType": "object",
         "type": "string"
        },
        {
         "name": "CAC40 Notional Return",
         "rawType": "object",
         "type": "string"
        },
        {
         "name": "PSI-20 Notional Return",
         "rawType": "object",
         "type": "string"
        },
        {
         "name": "IBEX-35 Notional Return",
         "rawType": "object",
         "type": "string"
        },
        {
         "name": "FTSE/Athens Notional Return",
         "rawType": "object",
         "type": "string"
        },
        {
         "name": "BEL-20 Notional Return",
         "rawType": "object",
         "type": "string"
        },
        {
         "name": "FTSE/MIB Notional Return",
         "rawType": "object",
         "type": "string"
        },
        {
         "name": "Gold Notional Return",
         "rawType": "object",
         "type": "string"
        },
        {
         "name": "Silver Notional Return",
         "rawType": "object",
         "type": "string"
        }
       ],
       "conversionMethod": "pd.DataFrame",
       "ref": "60a26e59-38e3-4d1f-bf12-36d16bfccebe",
       "rows": [
        [
         "mean",
         "0.03%",
         "0.03%",
         "0.03%",
         "0.01%",
         "0.03%",
         "0.00%",
         "0.03%",
         "0.02%",
         "0.04%",
         "0.05%"
        ],
        [
         "std",
         "1.28%",
         "1.21%",
         "1.29%",
         "1.19%",
         "1.36%",
         "2.07%",
         "1.46%",
         "1.42%",
         "1.08%",
         "2.02%"
        ],
        [
         "min",
         "-11.09%",
         "-11.29%",
         "-12.38%",
         "-9.75%",
         "-13.13%",
         "-20.08%",
         "-27.47%",
         "-15.55%",
         "-9.35%",
         "-17.75%"
        ],
        [
         "25%",
         "-0.52%",
         "-0.48%",
         "-0.55%",
         "-0.55%",
         "-0.60%",
         "-0.82%",
         "-0.51%",
         "-0.60%",
         "-0.45%",
         "-0.85%"
        ],
        [
         "50%",
         "0.05%",
         "0.06%",
         "0.04%",
         "0.04%",
         "0.04%",
         "0.00%",
         "0.04%",
         "0.05%",
         "0.02%",
         "0.02%"
        ],
        [
         "75%",
         "0.65%",
         "0.61%",
         "0.65%",
         "0.62%",
         "0.68%",
         "0.86%",
         "0.61%",
         "0.72%",
         "0.60%",
         "1.03%"
        ],
        [
         "max",
         "12.84%",
         "11.78%",
         "10.76%",
         "12.53%",
         "14.78%",
         "26.75%",
         "38.48%",
         "10.76%",
         "9.03%",
         "12.97%"
        ]
       ],
       "shape": {
        "columns": 10,
        "rows": 7
       }
      },
      "text/html": [
       "<div>\n",
       "<style scoped>\n",
       "    .dataframe tbody tr th:only-of-type {\n",
       "        vertical-align: middle;\n",
       "    }\n",
       "\n",
       "    .dataframe tbody tr th {\n",
       "        vertical-align: top;\n",
       "    }\n",
       "\n",
       "    .dataframe thead th {\n",
       "        text-align: right;\n",
       "    }\n",
       "</style>\n",
       "<table border=\"1\" class=\"dataframe\">\n",
       "  <thead>\n",
       "    <tr style=\"text-align: right;\">\n",
       "      <th></th>\n",
       "      <th>DAX Notional Return</th>\n",
       "      <th>Amsterdam Index Notional Return</th>\n",
       "      <th>CAC40 Notional Return</th>\n",
       "      <th>PSI-20 Notional Return</th>\n",
       "      <th>IBEX-35 Notional Return</th>\n",
       "      <th>FTSE/Athens Notional Return</th>\n",
       "      <th>BEL-20 Notional Return</th>\n",
       "      <th>FTSE/MIB Notional Return</th>\n",
       "      <th>Gold Notional Return</th>\n",
       "      <th>Silver Notional Return</th>\n",
       "    </tr>\n",
       "  </thead>\n",
       "  <tbody>\n",
       "    <tr>\n",
       "      <th>mean</th>\n",
       "      <td>0.03%</td>\n",
       "      <td>0.03%</td>\n",
       "      <td>0.03%</td>\n",
       "      <td>0.01%</td>\n",
       "      <td>0.03%</td>\n",
       "      <td>0.00%</td>\n",
       "      <td>0.03%</td>\n",
       "      <td>0.02%</td>\n",
       "      <td>0.04%</td>\n",
       "      <td>0.05%</td>\n",
       "    </tr>\n",
       "    <tr>\n",
       "      <th>std</th>\n",
       "      <td>1.28%</td>\n",
       "      <td>1.21%</td>\n",
       "      <td>1.29%</td>\n",
       "      <td>1.19%</td>\n",
       "      <td>1.36%</td>\n",
       "      <td>2.07%</td>\n",
       "      <td>1.46%</td>\n",
       "      <td>1.42%</td>\n",
       "      <td>1.08%</td>\n",
       "      <td>2.02%</td>\n",
       "    </tr>\n",
       "    <tr>\n",
       "      <th>min</th>\n",
       "      <td>-11.09%</td>\n",
       "      <td>-11.29%</td>\n",
       "      <td>-12.38%</td>\n",
       "      <td>-9.75%</td>\n",
       "      <td>-13.13%</td>\n",
       "      <td>-20.08%</td>\n",
       "      <td>-27.47%</td>\n",
       "      <td>-15.55%</td>\n",
       "      <td>-9.35%</td>\n",
       "      <td>-17.75%</td>\n",
       "    </tr>\n",
       "    <tr>\n",
       "      <th>25%</th>\n",
       "      <td>-0.52%</td>\n",
       "      <td>-0.48%</td>\n",
       "      <td>-0.55%</td>\n",
       "      <td>-0.55%</td>\n",
       "      <td>-0.60%</td>\n",
       "      <td>-0.82%</td>\n",
       "      <td>-0.51%</td>\n",
       "      <td>-0.60%</td>\n",
       "      <td>-0.45%</td>\n",
       "      <td>-0.85%</td>\n",
       "    </tr>\n",
       "    <tr>\n",
       "      <th>50%</th>\n",
       "      <td>0.05%</td>\n",
       "      <td>0.06%</td>\n",
       "      <td>0.04%</td>\n",
       "      <td>0.04%</td>\n",
       "      <td>0.04%</td>\n",
       "      <td>0.00%</td>\n",
       "      <td>0.04%</td>\n",
       "      <td>0.05%</td>\n",
       "      <td>0.02%</td>\n",
       "      <td>0.02%</td>\n",
       "    </tr>\n",
       "    <tr>\n",
       "      <th>75%</th>\n",
       "      <td>0.65%</td>\n",
       "      <td>0.61%</td>\n",
       "      <td>0.65%</td>\n",
       "      <td>0.62%</td>\n",
       "      <td>0.68%</td>\n",
       "      <td>0.86%</td>\n",
       "      <td>0.61%</td>\n",
       "      <td>0.72%</td>\n",
       "      <td>0.60%</td>\n",
       "      <td>1.03%</td>\n",
       "    </tr>\n",
       "    <tr>\n",
       "      <th>max</th>\n",
       "      <td>12.84%</td>\n",
       "      <td>11.78%</td>\n",
       "      <td>10.76%</td>\n",
       "      <td>12.53%</td>\n",
       "      <td>14.78%</td>\n",
       "      <td>26.75%</td>\n",
       "      <td>38.48%</td>\n",
       "      <td>10.76%</td>\n",
       "      <td>9.03%</td>\n",
       "      <td>12.97%</td>\n",
       "    </tr>\n",
       "  </tbody>\n",
       "</table>\n",
       "</div>"
      ],
      "text/plain": [
       "     DAX Notional Return Amsterdam Index Notional Return  \\\n",
       "mean               0.03%                           0.03%   \n",
       "std                1.28%                           1.21%   \n",
       "min              -11.09%                         -11.29%   \n",
       "25%               -0.52%                          -0.48%   \n",
       "50%                0.05%                           0.06%   \n",
       "75%                0.65%                           0.61%   \n",
       "max               12.84%                          11.78%   \n",
       "\n",
       "     CAC40 Notional Return PSI-20 Notional Return IBEX-35 Notional Return  \\\n",
       "mean                 0.03%                  0.01%                   0.03%   \n",
       "std                  1.29%                  1.19%                   1.36%   \n",
       "min                -12.38%                 -9.75%                 -13.13%   \n",
       "25%                 -0.55%                 -0.55%                  -0.60%   \n",
       "50%                  0.04%                  0.04%                   0.04%   \n",
       "75%                  0.65%                  0.62%                   0.68%   \n",
       "max                 10.76%                 12.53%                  14.78%   \n",
       "\n",
       "     FTSE/Athens Notional Return BEL-20 Notional Return  \\\n",
       "mean                       0.00%                  0.03%   \n",
       "std                        2.07%                  1.46%   \n",
       "min                      -20.08%                -27.47%   \n",
       "25%                       -0.82%                 -0.51%   \n",
       "50%                        0.00%                  0.04%   \n",
       "75%                        0.86%                  0.61%   \n",
       "max                       26.75%                 38.48%   \n",
       "\n",
       "     FTSE/MIB Notional Return Gold Notional Return Silver Notional Return  \n",
       "mean                    0.02%                0.04%                  0.05%  \n",
       "std                     1.42%                1.08%                  2.02%  \n",
       "min                   -15.55%               -9.35%                -17.75%  \n",
       "25%                    -0.60%               -0.45%                 -0.85%  \n",
       "50%                     0.05%                0.02%                  0.02%  \n",
       "75%                     0.72%                0.60%                  1.03%  \n",
       "max                    10.76%                9.03%                 12.97%  "
      ]
     },
     "execution_count": 61,
     "metadata": {},
     "output_type": "execute_result"
    }
   ],
   "source": [
    "returns_daily.describe().round(4).map(lambda x: f'{x*100:.2f}%').drop(\"count\")"
   ]
  },
  {
   "cell_type": "markdown",
   "id": "06850f5a",
   "metadata": {},
   "source": [
    "# Visualization"
   ]
  },
  {
   "cell_type": "markdown",
   "id": "cf80a278",
   "metadata": {},
   "source": [
    "## Quantile Analysis"
   ]
  },
  {
   "cell_type": "code",
   "execution_count": null,
   "id": "5736e40a",
   "metadata": {},
   "outputs": [],
   "source": [
    "def analyze_by_prev_month_volatility(daily_returns_df, column):\n",
    "\n",
    "    \"\"\"\n",
    "    Segregates months by previous month's realized volatility and computes:\n",
    "        - average daily return\n",
    "        - daily return variance\n",
    "    for each month.\n",
    "    \"\"\"\n",
    "    \n",
    "    endofmonth=daily_returns_df.index+MonthEnd(0)\n",
    "\n",
    "    # Step 1: Calculate monthly realized volatility (variance of daily returns)\n",
    "    monthly_vol = daily_returns_df[column].groupby(endofmonth).var()\n",
    "\n",
    "    # Step 2: Shift to get the previous month's volatility\n",
    "    prev_month_vol = monthly_vol.shift(1)\n",
    "\n",
    "    # Step 3: Ensure proper alignment for daily data\n",
    "    prev_vol_per_day = prev_month_vol.loc[endofmonth].values\n",
    "\n",
    "    # Step 4: Prepare the DataFrame with the necessary columns\n",
    "    df = pd.DataFrame({\n",
    "        'daily_return': daily_returns_df[column],\n",
    "        'prev_month_vol': prev_vol_per_day, \n",
    "        'endofmonth': endofmonth,\n",
    "        'month': endofmonth\n",
    "    })\n",
    "\n",
    "    # Step 5: Group by month and calculate average daily return and variance\n",
    "    grouped = df.groupby('month').agg({\n",
    "        'daily_return': ['mean', 'var'],\n",
    "        'prev_month_vol': 'first'  # Use first value as all rows in the month share the same volatility\n",
    "    })\n",
    "\n",
    "    # Step 6: Flatten MultiIndex columns\n",
    "    grouped.columns = ['avg_daily_return', 'daily_return_var', 'prev_month_vol']\n",
    "\n",
    "    # Step 7: Sort by previous month's volatility in descending order\n",
    "    result_df = grouped.sort_values('prev_month_vol', ascending=False)\n",
    "    \n",
    "    return result_df"
   ]
  },
  {
   "cell_type": "code",
   "execution_count": null,
   "id": "332e0006",
   "metadata": {},
   "outputs": [],
   "source": [
    "#Segregates months by previous month's realized volatility\n",
    "dax_prev_month_vol = analyze_by_prev_month_volatility(returns_daily, \"DAX Notional Return\")\n",
    "cac40_prev_month_vol = analyze_by_prev_month_volatility(returns_daily, \"CAC40 Notional Return\")\n",
    "#ftse_prev_month_vol = analyze_by_prev_month_volatility(returns_daily, \"FTSE/Athens Notional Return\")\n",
    "psi_20_prev_month_vol = analyze_by_prev_month_volatility(returns_daily, \"PSI-20 Notional Return\")\n",
    "ibex35_prev_month_vol = analyze_by_prev_month_volatility(returns_daily, \"IBEX-35 Notional Return\")\n",
    "ftse_mib_prev_month_vol = analyze_by_prev_month_volatility(returns_daily, \"FTSE/MIB Notional Return\")\n",
    "amsterdam_prev_month_vol = analyze_by_prev_month_volatility(returns_daily, 'Amsterdam Index Notional Return')\n",
    "bel20_prev_month_vol = analyze_by_prev_month_volatility(returns_daily, 'BEL-20 Notional Return')\n",
    "gold_prev_month_vol = analyze_by_prev_month_volatility(returns_daily, 'Gold Notional Return')\n",
    "silver_prev_month_vol = analyze_by_prev_month_volatility(returns_daily, 'Silver Notional Return')"
   ]
  },
  {
   "cell_type": "code",
   "execution_count": null,
   "id": "15b6e576",
   "metadata": {},
   "outputs": [
    {
     "data": {
      "image/png": "[encoded data removed]",
      "text/plain": [
       "<Figure size 900x800 with 9 Axes>"
      ]
     },
     "metadata": {},
     "output_type": "display_data"
    }
   ],
   "source": [
    "# Similar to Figure 1 Moeira and Muir (2017) \n",
    "data_dict = {\n",
    "    \"DAX\": dax_prev_month_vol,\n",
    "    \"CAC40\": cac40_prev_month_vol,\n",
    "    #\"FTSE/Athens\": ftse_prev_month_vol,\n",
    "    \"PSI-20\": psi_20_prev_month_vol,\n",
    "    \"IBEX-35\": ibex35_prev_month_vol,\n",
    "    \"FTSE/MIB\": ftse_mib_prev_month_vol,\n",
    "    \"Amsterdam Futuress\": amsterdam_prev_month_vol,\n",
    "    \"BEL-20\": bel20_prev_month_vol,\n",
    "    \"Gold\": gold_prev_month_vol,\n",
    "    \"Silver\": silver_prev_month_vol\n",
    "}\n",
    "\n",
    "#Create grid of plots\n",
    "fig, axes = plt.subplots(3,3, figsize=(9,8))\n",
    "axes = axes.flatten()\n",
    "\n",
    "for idx, (label, result_df) in enumerate(data_dict.items()):\n",
    "\n",
    "    # Create volatility quintiles\n",
    "    result_df['vol_quintile'] = pd.qcut(result_df['prev_month_vol'], q=5, labels=False)\n",
    "\n",
    "    # Group by quintile and compute summary stats\n",
    "    summary = result_df.groupby('vol_quintile').agg({\n",
    "        'avg_daily_return': 'mean',\n",
    "        'daily_return_var': 'mean'\n",
    "    })\n",
    "\n",
    "    summary['return_to_var'] = summary['avg_daily_return'] / summary['daily_return_var']\n",
    "\n",
    "    # Plot Return-to-Volatility (Annualized)\n",
    "    ax = axes[idx]\n",
    "    ax.bar(summary.index, summary['return_to_var']*np.sqrt(252), color=\"#43474a\")\n",
    "    ax.set_title(f\"{label}\\nE[Rₜ]/Var[Rₜ₋₁]\", fontsize=8)\n",
    "    ax.set_xlabel('Prev. Month Volatility Quintile\\n(Low → High)', fontsize=6)\n",
    "    ax.tick_params(axis='x', labelsize=6)\n",
    "    ax.tick_params(axis='y', labelsize=6)\n",
    "\n",
    "plt.tight_layout()\n",
    "plt.show()"
   ]
  },
  {
   "cell_type": "markdown",
   "id": "47cdd913",
   "metadata": {},
   "source": [
    "## Cummulative Rerturns and Realized Volatility"
   ]
  },
  {
   "cell_type": "code",
   "execution_count": null,
   "id": "ec8ebfdb",
   "metadata": {},
   "outputs": [
    {
     "data": {
      "text/plain": [
       "Index(['DAX Notional Return', 'Amsterdam Index Notional Return',\n",
       "       'CAC40 Notional Return', 'PSI-20 Notional Return',\n",
       "       'IBEX-35 Notional Return', 'FTSE/Athens Notional Return',\n",
       "       'BEL-20 Notional Return', 'FTSE/MIB Notional Return',\n",
       "       'Gold Notional Return', 'Silver Notional Return', 'NBER_INDEX'],\n",
       "      dtype='object')"
      ]
     },
     "execution_count": 65,
     "metadata": {},
     "output_type": "execute_result"
    }
   ],
   "source": [
    "returns_daily_w_recession = returns_daily.merge(recession_indicator, left_index=True, right_index=True, how='left').fillna(method=\"ffill\").dropna()\n",
    "returns_daily_w_recession.columns"
   ]
  },
  {
   "cell_type": "code",
   "execution_count": null,
   "id": "6d7fb43d",
   "metadata": {},
   "outputs": [
    {
     "ename": "",
     "evalue": "",
     "output_type": "error",
     "traceback": [
      "\u001b[1;31mCannot execute code, session has been disposed. Please try restarting the Kernel."
     ]
    },
    {
     "ename": "",
     "evalue": "",
     "output_type": "error",
     "traceback": [
      "\u001b[1;31mCannot execute code, session has been disposed. Please try restarting the Kernel. \n",
      "\u001b[1;31mView Jupyter <a href='command:jupyter.viewOutput'>log</a> for further details."
     ]
    }
   ],
   "source": [
    "columns = [\n",
    "    'DAX Notional Return', 'Amsterdam Index Notional Return',\n",
    "    'CAC40 Notional Return', 'PSI-20 Notional Return',\n",
    "    'IBEX-35 Notional Return', 'BEL-20 Notional Return', \n",
    "    'FTSE/MIB Notional Return', 'Gold Notional Return', 'Silver Notional Return'\n",
    "]\n",
    "\n",
    "# Recession shading logic\n",
    "recession_periods = returns_daily_w_recession[\"NBER_INDEX\"].diff().fillna(0)\n",
    "recession_starts = returns_daily_w_recession.index[(recession_periods == 1)]\n",
    "recession_ends = returns_daily_w_recession.index[(recession_periods == -1)]\n",
    "if len(recession_starts) > len(recession_ends):\n",
    "    recession_ends = recession_ends.append(pd.Index([returns_daily_w_recession.index[-1]]))\n",
    "\n",
    "# Set up the grid\n",
    "fig, axs = plt.subplots(3, 3, figsize=(14, 8), sharex=True)\n",
    "axs = axs.flatten()\n",
    "\n",
    "# For collecting legend handles\n",
    "cumulative_handles = []\n",
    "volatility_handles = []\n",
    "\n",
    "for i, col in enumerate(columns):\n",
    "    ax1 = axs[i]\n",
    "    ax2 = ax1.twinx()\n",
    "\n",
    "    # Cumulative return line\n",
    "    cum_line, = ax1.plot((1 + returns_daily_w_recession[col]).cumprod(), color=\"#43474a\", label=\"Cumulative Return\")\n",
    "    ax1.set_ylabel(\"Cumulative Return\", color='black', fontsize=6)\n",
    "    ax1.tick_params(axis='y', labelcolor=\"black\", labelsize=5)\n",
    "\n",
    "    # Rolling variance line\n",
    "    vol_line, = ax2.plot(returns_daily_w_recession[col].rolling(window=21).var(), color=\"#6c7175\", linestyle=\"--\", label=\"21d Rolling Variance\")\n",
    "    ax2.set_ylabel(\"Variance\", color=\"black\", fontsize=6)\n",
    "    ax2.tick_params(axis='y', labelcolor=\"black\", labelsize=5)\n",
    "\n",
    "    # Shading for recessions\n",
    "    for start, end in zip(recession_starts, recession_ends):\n",
    "        ax1.axvspan(start, end, color='gray', alpha=0.35)\n",
    "\n",
    "    ax1.set_title(col.replace(\" Notional Return\", \"\"), fontsize=8)\n",
    "\n",
    "    # Only add handles once (first iteration)\n",
    "    if i == 0:\n",
    "        cumulative_handles.append(cum_line)\n",
    "        volatility_handles.append(vol_line)\n",
    "\n",
    "# Add shared legend at bottom center\n",
    "fig.legend(\n",
    "    cumulative_handles + volatility_handles,\n",
    "    [\"Cumulative Return\", \"21d Rolling Variance\"],\n",
    "    loc=\"lower center\",\n",
    "    ncol=2,\n",
    "    fontsize=10\n",
    ")\n",
    "\n",
    "plt.tight_layout(rect=[0, 0.03, 1, 1])  \n",
    "plt.show()"
   ]
  },
  {
   "cell_type": "code",
   "execution_count": null,
   "id": "668517d0",
   "metadata": {},
   "outputs": [],
   "source": [
    "#Calulate monthly realized volatility based on daily returns\n",
    "\n",
    "# Step 1: Convert daily returns index to period (monthly)\n",
    "returns_daily_period = returns_daily.copy()\n",
    "returns_daily_period.index = returns_daily_period.index.to_period('M')\n",
    "\n",
    "# Step 2: Calculate monthly variance (variance of daily returns in each month)\n",
    "monthly_vol = returns_daily_period.groupby(returns_daily_period.index).std()\n",
    "\n",
    "# Step 3: Convert returns_monthly index to period as well\n",
    "returns_monthly_period = returns_monthly.copy()\n",
    "returns_monthly_period.index = returns_monthly.index.to_period('M')\n",
    "\n",
    "# Step 4: Align monthly variance with monthly returns\n",
    "aligned_vol = monthly_vol.reindex(returns_monthly_period.index)\n",
    "\n",
    "aligned_vol.index = returns_monthly.index"
   ]
  }
 ],
 "metadata": {
  "kernelspec": {
   "display_name": "base",
   "language": "python",
   "name": "python3"
  },
  "language_info": {
   "codemirror_mode": {
    "name": "ipython",
    "version": 3
   },
   "file_extension": ".py",
   "mimetype": "text/x-python",
   "name": "python",
   "nbconvert_exporter": "python",
   "pygments_lexer": "ipython3",
   "version": "3.12.7"
  }
 },
 "nbformat": 4,
 "nbformat_minor": 5
}
