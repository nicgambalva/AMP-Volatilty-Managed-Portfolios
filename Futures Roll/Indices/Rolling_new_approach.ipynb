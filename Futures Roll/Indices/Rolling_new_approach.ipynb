{
 "cells": [
  {
   "cell_type": "code",
   "execution_count": 1,
   "id": "df1d41ed",
   "metadata": {},
   "outputs": [],
   "source": [
    "# ignore non material warnings\n",
    "import warnings\n",
    "warnings.filterwarnings(\"ignore\")"
   ]
  },
  {
   "cell_type": "code",
   "execution_count": 2,
   "id": "98674544",
   "metadata": {},
   "outputs": [],
   "source": [
    "# import packages\n",
    "import pandas as pd\n",
    "import numpy as np\n",
    "import matplotlib.pyplot as plt"
   ]
  },
  {
   "cell_type": "markdown",
   "id": "f77b1d12",
   "metadata": {},
   "source": [
    "# COMEX Contracts"
   ]
  },
  {
   "cell_type": "code",
   "execution_count": 3,
   "id": "aabbea19",
   "metadata": {},
   "outputs": [],
   "source": [
    "# COMEX Contracts date matrix\n",
    "\n",
    "#Gold\n",
    "dates_matrix_gold = pd.read_excel(\"./Gold Futures Data.xlsx\", sheet_name=\"Metadata Gold\", skiprows=7)\n",
    "\n",
    "#Silver\n",
    "dates_matrix_silver = pd.read_excel(\"./Silver Futures Data.xlsx\", sheet_name=\"Metadata Silver\", skiprows=7)"
   ]
  },
  {
   "cell_type": "code",
   "execution_count": 4,
   "id": "eef75c92",
   "metadata": {},
   "outputs": [],
   "source": [
    "# expiry dates for COMEX are the same of all three contracts for Gold, Silver, and Palladium\n",
    "last_trade_dates_gold = pd.to_datetime(dates_matrix_gold[\"Last Trade\"])\n",
    "last_trade_dates_silver = pd.to_datetime(dates_matrix_silver[\"Last Trade\"])"
   ]
  },
  {
   "cell_type": "code",
   "execution_count": 5,
   "id": "1c0200cf",
   "metadata": {},
   "outputs": [],
   "source": [
    "# COMEX Contracts Settlement Prices\n",
    "\n",
    "# Gold\n",
    "settlement_prices_gold = pd.read_excel(\"./Gold Futures Data.xlsx\", sheet_name=\"GOLD PX_SETTLE\")\n",
    "\n",
    "# Silver\n",
    "settlement_prices_silver = pd.read_excel(\"./Silver Futures Data.xlsx\", sheet_name=\"SILVER PX_SETTLE\")"
   ]
  },
  {
   "cell_type": "code",
   "execution_count": 6,
   "id": "80acd650",
   "metadata": {},
   "outputs": [],
   "source": [
    "#set date index \n",
    "settlement_prices_gold.set_index(\"Date\",inplace=True)\n",
    "settlement_prices_silver.set_index(\"Dates\",inplace=True)"
   ]
  },
  {
   "cell_type": "markdown",
   "id": "4dca61fa",
   "metadata": {},
   "source": [
    "## (Almost) Tradable Returns Calculations\n",
    "\n",
    "It does not recesarily reflects bid-ask spread but it's close enough in my view. We might think how to incorporate transaction costs even better into the returns calculations but I believe this approach will eliminate price jumps.\n",
    "\n",
    "Basically my understading is (was) that we should combine prices together, but maybe it would be better to work on returns exclusively. \n",
    "\n",
    "So, how I see it. We take front contract, assume some number of contracts we enter at the beginning and then adjust it based on the roll\n",
    "\n",
    "\n",
    "|Time           |Front Contract     |Back Contract| No contracts |\n",
    "|---------------|-------------------|-------------|--------------|\n",
    "|T-5            |       90          |  95         | 1000         |\n",
    "|Roll Day       |       100         |  110        |  100*1000/110|\n",
    "|T-3            |       101            |  102.2   |909.9|\n",
    "\n",
    "Obviously, at T+1 Back Contract becomes Front contract, and the trade repeats itself when the expiration of front contract is coming.\n",
    "\n",
    "Here is what acctualy matters and what is crucial for us! Return calculation :))\n",
    "\n",
    "\n",
    "\n",
    "\n",
    "### Rolling Returns Calculation\n",
    "\n",
    "$$\n",
    "ret(T-3)=\\frac{909.9*101-909.9*110}{909.9*110}\n",
    "$$\n",
    "\n",
    "And so forth ...\n",
    "\n",
    "\\\n",
    "(We could be smart about it and whenever roll occur, but it was hard and I gave up. Whenever we roll we use bid-ask spread but then sudennly to calculate daily non-rollable contract we switch back to settlement pricing? Could be cool? I donno...)\n"
   ]
  },
  {
   "cell_type": "markdown",
   "id": "2c282043",
   "metadata": {},
   "source": [
    "Nico! I tried incorportating your calculation into my thinking. Let me know what you think"
   ]
  },
  {
   "cell_type": "markdown",
   "id": "ff0c0d10",
   "metadata": {},
   "source": [
    "## Gold"
   ]
  },
  {
   "cell_type": "code",
   "execution_count": 7,
   "id": "7a6ad3d9",
   "metadata": {},
   "outputs": [],
   "source": [
    "number = 1\n",
    "no_contracts = 1_000\n",
    "contracts_table = []\n",
    "rolled_prices = []\n",
    "notional_values = []\n",
    "\n",
    "for i in range(len(settlement_prices_gold)):\n",
    "\n",
    "    # Record current position\n",
    "    current_price = settlement_prices_gold.iloc[i, number-1]\n",
    "    rolled_prices.append(current_price)\n",
    "    contracts_table.append(no_contracts)\n",
    "    notional_values.append(no_contracts * current_price)\n",
    "    \n",
    "    # 5 days before the last trading day\n",
    "    if i + 6 < len(settlement_prices_gold) and settlement_prices_gold.index[i+6] == last_trade_dates_gold[number-1]:\n",
    "\n",
    "        # Adjust contract quantity (price ratio adjustment)\n",
    "        new_price = settlement_prices_gold.iloc[i, number]\n",
    "        no_contracts = (current_price * no_contracts) / new_price\n",
    "\n",
    "        # Move!\n",
    "        number += 1"
   ]
  },
  {
   "cell_type": "code",
   "execution_count": 8,
   "id": "259d891f",
   "metadata": {},
   "outputs": [
    {
     "data": {
      "application/vnd.microsoft.datawrangler.viewer.v0+json": {
       "columns": [
        {
         "name": "Date",
         "rawType": "datetime64[ns]",
         "type": "datetime"
        },
        {
         "name": "Rolled Price",
         "rawType": "float64",
         "type": "float"
        },
        {
         "name": "Number of Contracts",
         "rawType": "float64",
         "type": "float"
        },
        {
         "name": "Notional Value",
         "rawType": "float64",
         "type": "float"
        },
        {
         "name": "Notional Return",
         "rawType": "float64",
         "type": "float"
        }
       ],
       "conversionMethod": "pd.DataFrame",
       "ref": "36b3e313-acee-46ec-8cd3-817f99dfdf7c",
       "rows": [
        [
         "2000-01-03 00:00:00",
         "288.5",
         "1000.0",
         "288500.0",
         "0.0"
        ],
        [
         "2000-01-04 00:00:00",
         "282.7",
         "1000.0",
         "282700.0",
         "-0.02010398613518194"
        ],
        [
         "2000-01-05 00:00:00",
         "281.1",
         "1000.0",
         "281100.0",
         "-0.0056597099398655315"
        ],
        [
         "2000-01-06 00:00:00",
         "281.4",
         "1000.0",
         "281400.0",
         "0.0010672358591248265"
        ],
        [
         "2000-01-07 00:00:00",
         "281.9",
         "1000.0",
         "281900.0",
         "0.0017768301350391535"
        ],
        [
         "2000-01-10 00:00:00",
         "281.7",
         "1000.0",
         "281700.0",
         "-0.0007094714437744232"
        ],
        [
         "2000-01-11 00:00:00",
         "283.4",
         "1000.0",
         "283400.0",
         "0.006034788782392608"
        ],
        [
         "2000-01-12 00:00:00",
         "282.7",
         "1000.0",
         "282700.0",
         "-0.0024700070571630484"
        ],
        [
         "2000-01-13 00:00:00",
         "284.1",
         "1000.0",
         "284100.0",
         "0.004952246197382326"
        ],
        [
         "2000-01-14 00:00:00",
         "283.9",
         "1000.0",
         "283900.0",
         "-0.0007039774727208847"
        ],
        [
         "2000-01-17 00:00:00",
         "283.9",
         "1000.0",
         "283900.0",
         "0.0"
        ],
        [
         "2000-01-18 00:00:00",
         "288.6",
         "1000.0",
         "288600.0",
         "0.016555125044029673"
        ],
        [
         "2000-01-19 00:00:00",
         "289.8",
         "1000.0",
         "289800.0",
         "0.004158004158004047"
        ],
        [
         "2000-01-20 00:00:00",
         "289.3",
         "998.2776438167413",
         "288801.7223561833",
         "-0.003444712366517333"
        ],
        [
         "2000-01-21 00:00:00",
         "289.7",
         "998.2776438167413",
         "289201.03341370996",
         "0.0013826477704803608"
        ],
        [
         "2000-01-24 00:00:00",
         "288.1",
         "998.2776438167413",
         "287603.7891836032",
         "-0.005522954780807665"
        ],
        [
         "2000-01-25 00:00:00",
         "286.6",
         "998.2776438167413",
         "286106.3727178781",
         "-0.00520652551197498"
        ],
        [
         "2000-01-26 00:00:00",
         "286.5",
         "998.2776438167413",
         "286006.54495349637",
         "-0.00034891835310546515"
        ],
        [
         "2000-01-27 00:00:00",
         "287.1",
         "998.2776438167413",
         "286605.5115397864",
         "0.0020942408376962707"
        ],
        [
         "2000-01-28 00:00:00",
         "283.0",
         "998.2776438167413",
         "282512.57320013776",
         "-0.014280738418669503"
        ],
        [
         "2000-01-31 00:00:00",
         "283.2",
         "998.2776438167413",
         "282712.22872890113",
         "0.0007067137809186885"
        ],
        [
         "2000-02-01 00:00:00",
         "282.5",
         "998.2776438167413",
         "282013.43437822943",
         "-0.0024717514124292794"
        ],
        [
         "2000-02-02 00:00:00",
         "284.9",
         "998.2776438167413",
         "284409.30072338955",
         "0.008495575221238783"
        ],
        [
         "2000-02-03 00:00:00",
         "287.2",
         "998.2776438167413",
         "286705.33930416807",
         "0.008073008073008037"
        ],
        [
         "2000-02-04 00:00:00",
         "310.4",
         "998.2776438167413",
         "309865.38064071647",
         "0.0807799442896937"
        ],
        [
         "2000-02-07 00:00:00",
         "301.9",
         "998.2776438167413",
         "301380.02066827414",
         "-0.027384020618556826"
        ],
        [
         "2000-02-08 00:00:00",
         "299.2",
         "998.2776438167413",
         "298684.671029969",
         "-0.008943358728055406"
        ],
        [
         "2000-02-09 00:00:00",
         "306.1",
         "998.2776438167413",
         "305572.7867723045",
         "0.023061497326203106"
        ],
        [
         "2000-02-10 00:00:00",
         "316.2",
         "998.2776438167413",
         "315655.3909748536",
         "0.032995753021888286"
        ],
        [
         "2000-02-11 00:00:00",
         "311.1",
         "998.2776438167413",
         "310564.1749913882",
         "-0.016129032258064502"
        ],
        [
         "2000-02-14 00:00:00",
         "308.5",
         "998.2776438167413",
         "307968.6531174647",
         "-0.00835744133719063"
        ],
        [
         "2000-02-15 00:00:00",
         "301.7",
         "998.2776438167413",
         "301180.36513951083",
         "-0.0220421393841167"
        ],
        [
         "2000-02-16 00:00:00",
         "302.5",
         "998.2776438167413",
         "301978.98725456424",
         "0.0026516407026848654"
        ],
        [
         "2000-02-17 00:00:00",
         "301.4",
         "998.2776438167413",
         "300880.8818463658",
         "-0.0036363636363636598"
        ],
        [
         "2000-02-18 00:00:00",
         "305.7",
         "995.9645211730083",
         "304466.35412258864",
         "0.011916583912611634"
        ],
        [
         "2000-02-21 00:00:00",
         "305.7",
         "995.9645211730083",
         "304466.35412258864",
         "0.0"
        ],
        [
         "2000-02-22 00:00:00",
         "306.1",
         "995.9645211730083",
         "304864.73993105785",
         "0.0013084723585214952"
        ],
        [
         "2000-02-23 00:00:00",
         "300.8",
         "995.9645211730083",
         "299586.1279688409",
         "-0.017314603070891943"
        ],
        [
         "2000-02-24 00:00:00",
         "299.3",
         "995.9645211730083",
         "298092.1811870814",
         "-0.004986702127659504"
        ],
        [
         "2000-02-25 00:00:00",
         "293.0",
         "995.9645211730083",
         "291817.60470369144",
         "-0.021049114600734997"
        ],
        [
         "2000-02-28 00:00:00",
         "292.5",
         "995.9645211730083",
         "291319.6224431049",
         "-0.0017064846416382506"
        ],
        [
         "2000-02-29 00:00:00",
         "292.4",
         "995.9645211730083",
         "291220.0259909876",
         "-0.0003418803418804295"
        ],
        [
         "2000-03-01 00:00:00",
         "291.5",
         "995.9645211730083",
         "290323.65792193194",
         "-0.0030779753761968065"
        ],
        [
         "2000-03-02 00:00:00",
         "288.2",
         "995.9645211730083",
         "287036.975002061",
         "-0.01132075471698124"
        ],
        [
         "2000-03-03 00:00:00",
         "288.8",
         "995.9645211730083",
         "287634.5537147648",
         "0.002081887578070818"
        ],
        [
         "2000-03-06 00:00:00",
         "287.9",
         "995.9645211730083",
         "286738.18564570905",
         "-0.0031163434903049847"
        ],
        [
         "2000-03-07 00:00:00",
         "292.2",
         "995.9645211730083",
         "291020.83308675303",
         "0.014935741576936667"
        ],
        [
         "2000-03-08 00:00:00",
         "288.9",
         "995.9645211730083",
         "287734.1501668821",
         "-0.011293634496920002"
        ],
        [
         "2000-03-09 00:00:00",
         "291.2",
         "995.9645211730083",
         "290024.86856558",
         "0.007961232260297546"
        ],
        [
         "2000-03-10 00:00:00",
         "288.6",
         "995.9645211730083",
         "287435.3608105302",
         "-0.008928571428571286"
        ]
       ],
       "shape": {
        "columns": 4,
        "rows": 6603
       }
      },
      "text/html": [
       "<div>\n",
       "<style scoped>\n",
       "    .dataframe tbody tr th:only-of-type {\n",
       "        vertical-align: middle;\n",
       "    }\n",
       "\n",
       "    .dataframe tbody tr th {\n",
       "        vertical-align: top;\n",
       "    }\n",
       "\n",
       "    .dataframe thead th {\n",
       "        text-align: right;\n",
       "    }\n",
       "</style>\n",
       "<table border=\"1\" class=\"dataframe\">\n",
       "  <thead>\n",
       "    <tr style=\"text-align: right;\">\n",
       "      <th></th>\n",
       "      <th>Rolled Price</th>\n",
       "      <th>Number of Contracts</th>\n",
       "      <th>Notional Value</th>\n",
       "      <th>Notional Return</th>\n",
       "    </tr>\n",
       "    <tr>\n",
       "      <th>Date</th>\n",
       "      <th></th>\n",
       "      <th></th>\n",
       "      <th></th>\n",
       "      <th></th>\n",
       "    </tr>\n",
       "  </thead>\n",
       "  <tbody>\n",
       "    <tr>\n",
       "      <th>2000-01-03</th>\n",
       "      <td>288.5</td>\n",
       "      <td>1000.000000</td>\n",
       "      <td>2.885000e+05</td>\n",
       "      <td>0.000000</td>\n",
       "    </tr>\n",
       "    <tr>\n",
       "      <th>2000-01-04</th>\n",
       "      <td>282.7</td>\n",
       "      <td>1000.000000</td>\n",
       "      <td>2.827000e+05</td>\n",
       "      <td>-0.020104</td>\n",
       "    </tr>\n",
       "    <tr>\n",
       "      <th>2000-01-05</th>\n",
       "      <td>281.1</td>\n",
       "      <td>1000.000000</td>\n",
       "      <td>2.811000e+05</td>\n",
       "      <td>-0.005660</td>\n",
       "    </tr>\n",
       "    <tr>\n",
       "      <th>2000-01-06</th>\n",
       "      <td>281.4</td>\n",
       "      <td>1000.000000</td>\n",
       "      <td>2.814000e+05</td>\n",
       "      <td>0.001067</td>\n",
       "    </tr>\n",
       "    <tr>\n",
       "      <th>2000-01-07</th>\n",
       "      <td>281.9</td>\n",
       "      <td>1000.000000</td>\n",
       "      <td>2.819000e+05</td>\n",
       "      <td>0.001777</td>\n",
       "    </tr>\n",
       "    <tr>\n",
       "      <th>...</th>\n",
       "      <td>...</td>\n",
       "      <td>...</td>\n",
       "      <td>...</td>\n",
       "      <td>...</td>\n",
       "    </tr>\n",
       "    <tr>\n",
       "      <th>2025-04-17</th>\n",
       "      <td>3308.7</td>\n",
       "      <td>803.746888</td>\n",
       "      <td>2.659357e+06</td>\n",
       "      <td>-0.005381</td>\n",
       "    </tr>\n",
       "    <tr>\n",
       "      <th>2025-04-18</th>\n",
       "      <td>3308.7</td>\n",
       "      <td>803.746888</td>\n",
       "      <td>2.659357e+06</td>\n",
       "      <td>0.000000</td>\n",
       "    </tr>\n",
       "    <tr>\n",
       "      <th>2025-04-21</th>\n",
       "      <td>3406.2</td>\n",
       "      <td>803.746888</td>\n",
       "      <td>2.737723e+06</td>\n",
       "      <td>0.029468</td>\n",
       "    </tr>\n",
       "    <tr>\n",
       "      <th>2025-04-22</th>\n",
       "      <td>3400.8</td>\n",
       "      <td>803.746888</td>\n",
       "      <td>2.733382e+06</td>\n",
       "      <td>-0.001585</td>\n",
       "    </tr>\n",
       "    <tr>\n",
       "      <th>2025-04-23</th>\n",
       "      <td>3276.3</td>\n",
       "      <td>803.746888</td>\n",
       "      <td>2.633316e+06</td>\n",
       "      <td>-0.036609</td>\n",
       "    </tr>\n",
       "  </tbody>\n",
       "</table>\n",
       "<p>6603 rows × 4 columns</p>\n",
       "</div>"
      ],
      "text/plain": [
       "            Rolled Price  Number of Contracts  Notional Value  Notional Return\n",
       "Date                                                                          \n",
       "2000-01-03         288.5          1000.000000    2.885000e+05         0.000000\n",
       "2000-01-04         282.7          1000.000000    2.827000e+05        -0.020104\n",
       "2000-01-05         281.1          1000.000000    2.811000e+05        -0.005660\n",
       "2000-01-06         281.4          1000.000000    2.814000e+05         0.001067\n",
       "2000-01-07         281.9          1000.000000    2.819000e+05         0.001777\n",
       "...                  ...                  ...             ...              ...\n",
       "2025-04-17        3308.7           803.746888    2.659357e+06        -0.005381\n",
       "2025-04-18        3308.7           803.746888    2.659357e+06         0.000000\n",
       "2025-04-21        3406.2           803.746888    2.737723e+06         0.029468\n",
       "2025-04-22        3400.8           803.746888    2.733382e+06        -0.001585\n",
       "2025-04-23        3276.3           803.746888    2.633316e+06        -0.036609\n",
       "\n",
       "[6603 rows x 4 columns]"
      ]
     },
     "execution_count": 8,
     "metadata": {},
     "output_type": "execute_result"
    }
   ],
   "source": [
    "results_df_gold = pd.DataFrame({\n",
    "    \"Date\": settlement_prices_gold.index[:len(rolled_prices)],\n",
    "    \"Rolled Price\": rolled_prices,\n",
    "    \"Number of Contracts\": contracts_table,\n",
    "    \"Notional Value\": notional_values\n",
    "})\n",
    "\n",
    "results_df_gold.set_index(\"Date\", inplace=True)\n",
    "results_df_gold[\"Notional Return\"] = results_df_gold[\"Notional Value\"].pct_change()\n",
    "results_df_gold.iloc[1:-1]"
   ]
  },
  {
   "cell_type": "markdown",
   "id": "b37624c3",
   "metadata": {},
   "source": [
    "## Silver"
   ]
  },
  {
   "cell_type": "code",
   "execution_count": 9,
   "id": "50107886",
   "metadata": {},
   "outputs": [],
   "source": [
    "number = 1\n",
    "no_contracts = 1_000\n",
    "contracts_table_silver = []\n",
    "rolled_prices_silver = []\n",
    "notional_values_silver = []\n",
    "\n",
    "for i in range(len(settlement_prices_silver)):\n",
    "\n",
    "    # Record current position\n",
    "    current_price = settlement_prices_silver.iloc[i, number - 1]\n",
    "    rolled_prices_silver.append(current_price)\n",
    "    contracts_table_silver.append(no_contracts)\n",
    "    notional_values_silver.append(no_contracts * current_price)\n",
    "    \n",
    "    # 5 days before the last trading day\n",
    "    if i + 6 < len(settlement_prices_silver) and settlement_prices_silver.index[i + 6] == last_trade_dates_silver[number - 1]:\n",
    "\n",
    "        # Adjust contract quantity (price ratio adjustment)\n",
    "        new_price = settlement_prices_silver.iloc[i, number]\n",
    "        no_contracts = (current_price * no_contracts) / new_price\n",
    "\n",
    "        # Move!\n",
    "        number += 1"
   ]
  },
  {
   "cell_type": "code",
   "execution_count": 10,
   "id": "5d3a33f6",
   "metadata": {},
   "outputs": [
    {
     "data": {
      "application/vnd.microsoft.datawrangler.viewer.v0+json": {
       "columns": [
        {
         "name": "Date",
         "rawType": "datetime64[ns]",
         "type": "datetime"
        },
        {
         "name": "Rolled Price",
         "rawType": "float64",
         "type": "float"
        },
        {
         "name": "Number of Contracts",
         "rawType": "float64",
         "type": "float"
        },
        {
         "name": "Notional Value",
         "rawType": "float64",
         "type": "float"
        },
        {
         "name": "Notional Return",
         "rawType": "float64",
         "type": "float"
        }
       ],
       "conversionMethod": "pd.DataFrame",
       "ref": "79d8cb14-7613-4e2f-ac29-1edd0b900376",
       "rows": [
        [
         "2000-01-03 00:00:00",
         "5.413",
         "1000.0",
         "5413.0",
         "0.0"
        ],
        [
         "2000-01-04 00:00:00",
         "5.335",
         "1000.0",
         "5335.0",
         "-0.014409754295215182"
        ],
        [
         "2000-01-05 00:00:00",
         "5.17",
         "1000.0",
         "5170.0",
         "-0.030927835051546393"
        ],
        [
         "2000-01-06 00:00:00",
         "5.127",
         "1000.0",
         "5127.0",
         "-0.00831721470019342"
        ],
        [
         "2000-01-07 00:00:00",
         "5.15",
         "1000.0",
         "5150.0",
         "0.004486054222742286"
        ],
        [
         "2000-01-10 00:00:00",
         "5.145",
         "1000.0",
         "5145.0",
         "-0.000970873786407811"
        ],
        [
         "2000-01-11 00:00:00",
         "5.15",
         "1000.0",
         "5150.0",
         "0.0009718172983479434"
        ],
        [
         "2000-01-12 00:00:00",
         "5.1",
         "1000.0",
         "5100.0",
         "-0.009708737864077666"
        ],
        [
         "2000-01-13 00:00:00",
         "5.115",
         "1000.0",
         "5115.0",
         "0.002941176470588225"
        ],
        [
         "2000-01-14 00:00:00",
         "5.112",
         "1000.0",
         "5112.0",
         "-0.0005865102639296405"
        ],
        [
         "2000-01-17 00:00:00",
         "5.112",
         "1000.0",
         "5112.0",
         "0.0"
        ],
        [
         "2000-01-18 00:00:00",
         "5.127",
         "1000.0",
         "5127.0",
         "0.002934272300469498"
        ],
        [
         "2000-01-19 00:00:00",
         "5.135",
         "1000.0",
         "5135.0",
         "0.0015603666861712107"
        ],
        [
         "2000-01-20 00:00:00",
         "5.237",
         "996.5068891907628",
         "5218.706578692025",
         "0.016301183776441075"
        ],
        [
         "2000-01-21 00:00:00",
         "5.24",
         "996.5068891907628",
         "5221.696099359597",
         "0.0005728470498376215"
        ],
        [
         "2000-01-24 00:00:00",
         "5.273",
         "996.5068891907628",
         "5254.5808267028915",
         "0.006297709923664074"
        ],
        [
         "2000-01-25 00:00:00",
         "5.295",
         "996.5068891907628",
         "5276.503978265088",
         "0.004172197989759097"
        ],
        [
         "2000-01-26 00:00:00",
         "5.263",
         "996.5068891907628",
         "5244.615757810984",
         "-0.006043437204910296"
        ],
        [
         "2000-01-27 00:00:00",
         "5.395",
         "996.5068891907628",
         "5376.154667184164",
         "0.02508075242257246"
        ],
        [
         "2000-01-28 00:00:00",
         "5.307",
         "996.5068891907628",
         "5288.462060935379",
         "-0.01631139944392923"
        ],
        [
         "2000-01-31 00:00:00",
         "5.287",
         "996.5068891907628",
         "5268.531923151562",
         "-0.0037686074995291197"
        ],
        [
         "2000-02-01 00:00:00",
         "5.223",
         "996.5068891907628",
         "5204.755482243354",
         "-0.012105163608851832"
        ],
        [
         "2000-02-02 00:00:00",
         "5.212",
         "996.5068891907628",
         "5193.793906462255",
         "-0.002106069308826397"
        ],
        [
         "2000-02-03 00:00:00",
         "5.26",
         "996.5068891907628",
         "5241.626237143412",
         "0.009209516500383819"
        ],
        [
         "2000-02-04 00:00:00",
         "5.547",
         "996.5068891907628",
         "5527.623714341161",
         "0.05456273764258546"
        ],
        [
         "2000-02-07 00:00:00",
         "5.26",
         "996.5068891907628",
         "5241.626237143412",
         "-0.05173967910582289"
        ],
        [
         "2000-02-08 00:00:00",
         "5.318",
         "996.5068891907628",
         "5299.423636716476",
         "0.011026615969581544"
        ],
        [
         "2000-02-09 00:00:00",
         "5.408",
         "996.5068891907628",
         "5389.109256743645",
         "0.016923655509590185"
        ],
        [
         "2000-02-10 00:00:00",
         "5.405",
         "996.5068891907628",
         "5386.119736076073",
         "-0.0005547337278105635"
        ],
        [
         "2000-02-11 00:00:00",
         "5.332",
         "996.5068891907628",
         "5313.374733165147",
         "-0.013506012950971535"
        ],
        [
         "2000-02-14 00:00:00",
         "5.255",
         "996.5068891907628",
         "5236.643702697458",
         "-0.014441110277569336"
        ],
        [
         "2000-02-15 00:00:00",
         "5.245",
         "996.5068891907628",
         "5226.678633805551",
         "-0.0019029495718363432"
        ],
        [
         "2000-02-16 00:00:00",
         "5.292",
         "996.5068891907628",
         "5273.514457597516",
         "0.008960915157292693"
        ],
        [
         "2000-02-17 00:00:00",
         "5.255",
         "996.5068891907628",
         "5236.643702697458",
         "-0.006991685563114136"
        ],
        [
         "2000-02-18 00:00:00",
         "5.283",
         "994.6141885465258",
         "5254.546758091296",
         "0.0034188034188036287"
        ],
        [
         "2000-02-21 00:00:00",
         "5.283",
         "994.6141885465258",
         "5254.546758091296",
         "0.0"
        ],
        [
         "2000-02-22 00:00:00",
         "5.293",
         "994.6141885465258",
         "5264.492899976762",
         "0.0018928639030852956"
        ],
        [
         "2000-02-23 00:00:00",
         "5.263",
         "994.6141885465258",
         "5234.654474320366",
         "-0.005667863215567781"
        ],
        [
         "2000-02-24 00:00:00",
         "5.17",
         "994.6141885465258",
         "5142.155354785538",
         "-0.017670530115903582"
        ],
        [
         "2000-02-25 00:00:00",
         "5.04",
         "994.6141885465258",
         "5012.85551027449",
         "-0.025145067698259083"
        ],
        [
         "2000-02-28 00:00:00",
         "5.048",
         "994.6141885465258",
         "5020.812423782862",
         "0.0015873015873015817"
        ],
        [
         "2000-02-29 00:00:00",
         "5.048",
         "994.6141885465258",
         "5020.812423782862",
         "0.0"
        ],
        [
         "2000-03-01 00:00:00",
         "5.073",
         "994.6141885465258",
         "5045.677778496526",
         "0.0049524564183835995"
        ],
        [
         "2000-03-02 00:00:00",
         "5.008",
         "994.6141885465258",
         "4981.027856241001",
         "-0.012812931204415623"
        ],
        [
         "2000-03-03 00:00:00",
         "5.099",
         "994.6141885465258",
         "5071.5377473987355",
         "0.018170926517572017"
        ],
        [
         "2000-03-06 00:00:00",
         "5.053",
         "994.6141885465258",
         "5025.785494725595",
         "-0.00902137674053749"
        ],
        [
         "2000-03-07 00:00:00",
         "5.069",
         "994.6141885465258",
         "5041.69932174234",
         "0.003166435780724397"
        ],
        [
         "2000-03-08 00:00:00",
         "5.077",
         "994.6141885465258",
         "5049.656235250712",
         "0.0015782205563226182"
        ],
        [
         "2000-03-09 00:00:00",
         "5.097",
         "994.6141885465258",
         "5069.548519021642",
         "0.003939334252511362"
        ],
        [
         "2000-03-10 00:00:00",
         "5.064",
         "994.6141885465258",
         "5036.7262507996065",
         "-0.0064743967039435635"
        ]
       ],
       "shape": {
        "columns": 4,
        "rows": 6603
       }
      },
      "text/html": [
       "<div>\n",
       "<style scoped>\n",
       "    .dataframe tbody tr th:only-of-type {\n",
       "        vertical-align: middle;\n",
       "    }\n",
       "\n",
       "    .dataframe tbody tr th {\n",
       "        vertical-align: top;\n",
       "    }\n",
       "\n",
       "    .dataframe thead th {\n",
       "        text-align: right;\n",
       "    }\n",
       "</style>\n",
       "<table border=\"1\" class=\"dataframe\">\n",
       "  <thead>\n",
       "    <tr style=\"text-align: right;\">\n",
       "      <th></th>\n",
       "      <th>Rolled Price</th>\n",
       "      <th>Number of Contracts</th>\n",
       "      <th>Notional Value</th>\n",
       "      <th>Notional Return</th>\n",
       "    </tr>\n",
       "    <tr>\n",
       "      <th>Date</th>\n",
       "      <th></th>\n",
       "      <th></th>\n",
       "      <th></th>\n",
       "      <th></th>\n",
       "    </tr>\n",
       "  </thead>\n",
       "  <tbody>\n",
       "    <tr>\n",
       "      <th>2000-01-03</th>\n",
       "      <td>5.413</td>\n",
       "      <td>1000.000000</td>\n",
       "      <td>5413.000000</td>\n",
       "      <td>0.000000</td>\n",
       "    </tr>\n",
       "    <tr>\n",
       "      <th>2000-01-04</th>\n",
       "      <td>5.335</td>\n",
       "      <td>1000.000000</td>\n",
       "      <td>5335.000000</td>\n",
       "      <td>-0.014410</td>\n",
       "    </tr>\n",
       "    <tr>\n",
       "      <th>2000-01-05</th>\n",
       "      <td>5.170</td>\n",
       "      <td>1000.000000</td>\n",
       "      <td>5170.000000</td>\n",
       "      <td>-0.030928</td>\n",
       "    </tr>\n",
       "    <tr>\n",
       "      <th>2000-01-06</th>\n",
       "      <td>5.127</td>\n",
       "      <td>1000.000000</td>\n",
       "      <td>5127.000000</td>\n",
       "      <td>-0.008317</td>\n",
       "    </tr>\n",
       "    <tr>\n",
       "      <th>2000-01-07</th>\n",
       "      <td>5.150</td>\n",
       "      <td>1000.000000</td>\n",
       "      <td>5150.000000</td>\n",
       "      <td>0.004486</td>\n",
       "    </tr>\n",
       "    <tr>\n",
       "      <th>...</th>\n",
       "      <td>...</td>\n",
       "      <td>...</td>\n",
       "      <td>...</td>\n",
       "      <td>...</td>\n",
       "    </tr>\n",
       "    <tr>\n",
       "      <th>2025-04-17</th>\n",
       "      <td>32.420</td>\n",
       "      <td>774.008997</td>\n",
       "      <td>25093.371697</td>\n",
       "      <td>-0.015368</td>\n",
       "    </tr>\n",
       "    <tr>\n",
       "      <th>2025-04-18</th>\n",
       "      <td>32.420</td>\n",
       "      <td>774.008997</td>\n",
       "      <td>25093.371697</td>\n",
       "      <td>0.000000</td>\n",
       "    </tr>\n",
       "    <tr>\n",
       "      <th>2025-04-21</th>\n",
       "      <td>32.496</td>\n",
       "      <td>774.008997</td>\n",
       "      <td>25152.196381</td>\n",
       "      <td>0.002344</td>\n",
       "    </tr>\n",
       "    <tr>\n",
       "      <th>2025-04-22</th>\n",
       "      <td>32.880</td>\n",
       "      <td>774.008997</td>\n",
       "      <td>25449.415836</td>\n",
       "      <td>0.011817</td>\n",
       "    </tr>\n",
       "    <tr>\n",
       "      <th>2025-04-23</th>\n",
       "      <td>33.518</td>\n",
       "      <td>774.008997</td>\n",
       "      <td>25943.233576</td>\n",
       "      <td>0.019404</td>\n",
       "    </tr>\n",
       "  </tbody>\n",
       "</table>\n",
       "<p>6603 rows × 4 columns</p>\n",
       "</div>"
      ],
      "text/plain": [
       "            Rolled Price  Number of Contracts  Notional Value  Notional Return\n",
       "Date                                                                          \n",
       "2000-01-03         5.413          1000.000000     5413.000000         0.000000\n",
       "2000-01-04         5.335          1000.000000     5335.000000        -0.014410\n",
       "2000-01-05         5.170          1000.000000     5170.000000        -0.030928\n",
       "2000-01-06         5.127          1000.000000     5127.000000        -0.008317\n",
       "2000-01-07         5.150          1000.000000     5150.000000         0.004486\n",
       "...                  ...                  ...             ...              ...\n",
       "2025-04-17        32.420           774.008997    25093.371697        -0.015368\n",
       "2025-04-18        32.420           774.008997    25093.371697         0.000000\n",
       "2025-04-21        32.496           774.008997    25152.196381         0.002344\n",
       "2025-04-22        32.880           774.008997    25449.415836         0.011817\n",
       "2025-04-23        33.518           774.008997    25943.233576         0.019404\n",
       "\n",
       "[6603 rows x 4 columns]"
      ]
     },
     "execution_count": 10,
     "metadata": {},
     "output_type": "execute_result"
    }
   ],
   "source": [
    "results_df_silver = pd.DataFrame({\n",
    "    \"Date\": settlement_prices_silver.index[:len(rolled_prices_silver)],\n",
    "    \"Rolled Price\": rolled_prices_silver,\n",
    "    \"Number of Contracts\": contracts_table_silver,\n",
    "    \"Notional Value\": notional_values_silver\n",
    "})\n",
    "\n",
    "results_df_silver.set_index(\"Date\", inplace=True)\n",
    "results_df_silver[\"Notional Return\"] = results_df_silver[\"Notional Value\"].pct_change()\n",
    "results_df_silver.iloc[1:-1]"
   ]
  },
  {
   "cell_type": "markdown",
   "id": "33a3d27e",
   "metadata": {},
   "source": [
    "Interestingly enough, dataset does not filter holdays. Returns are 0 at the time. We should deal with it.\n",
    "\n",
    "If you made it till the end you've earned coffee delivery to your place. Only first place counts!"
   ]
  }
 ],
 "metadata": {
  "kernelspec": {
   "display_name": "base",
   "language": "python",
   "name": "python3"
  },
  "language_info": {
   "codemirror_mode": {
    "name": "ipython",
    "version": 3
   },
   "file_extension": ".py",
   "mimetype": "text/x-python",
   "name": "python",
   "nbconvert_exporter": "python",
   "pygments_lexer": "ipython3",
   "version": "3.12.7"
  }
 },
 "nbformat": 4,
 "nbformat_minor": 5
}
